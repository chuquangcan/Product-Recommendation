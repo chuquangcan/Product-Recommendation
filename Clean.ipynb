{
 "cells": [
  {
   "cell_type": "code",
   "execution_count": 69,
   "metadata": {},
   "outputs": [],
   "source": [
    "import pandas as pd\n",
    "import numpy as np \n",
    "import matplotlib.pyplot as plt\n",
    "import seaborn as sns\n",
    "from sklearn.impute import KNNImputer\n",
    "from sklearn.preprocessing import LabelEncoder, MinMaxScaler, StandardScaler\n",
    "from sklearn.neighbors import KNeighborsClassifier\n"
   ]
  },
  {
   "cell_type": "markdown",
   "metadata": {},
   "source": [
    "## A. Data cleaning"
   ]
  },
  {
   "cell_type": "code",
   "execution_count": 2,
   "metadata": {},
   "outputs": [
    {
     "name": "stderr",
     "output_type": "stream",
     "text": [
      "/var/folders/2r/k8v37jcj6yg4bqx302w74hrm0000gn/T/ipykernel_91808/2471439888.py:1: DtypeWarning: Columns (5,8,11,15) have mixed types. Specify dtype option on import or set low_memory=False.\n",
      "  data = pd.read_csv('data.csv')\n"
     ]
    }
   ],
   "source": [
    "data = pd.read_csv('data.csv')\n"
   ]
  },
  {
   "cell_type": "code",
   "execution_count": 3,
   "metadata": {},
   "outputs": [
    {
     "data": {
      "text/plain": [
       "fecha_dato                      0\n",
       "ncodpers                        0\n",
       "ind_empleado                27734\n",
       "pais_residencia             27734\n",
       "sexo                        27804\n",
       "age                             0\n",
       "fecha_alta                  27734\n",
       "ind_nuevo                   27734\n",
       "antiguedad                      0\n",
       "indrel                      27734\n",
       "ult_fec_cli_1t           13622516\n",
       "indrel_1mes                149781\n",
       "tiprel_1mes                149781\n",
       "indresi                     27734\n",
       "indext                      27734\n",
       "conyuemp                 13645501\n",
       "canal_entrada              186126\n",
       "indfall                     27734\n",
       "tipodom                     27735\n",
       "cod_prov                    93591\n",
       "nomprov                     93591\n",
       "ind_actividad_cliente       27734\n",
       "renta                     2794375\n",
       "segmento                   189368\n",
       "ind_ahor_fin_ult1               0\n",
       "ind_aval_fin_ult1               0\n",
       "ind_cco_fin_ult1                0\n",
       "ind_cder_fin_ult1               0\n",
       "ind_cno_fin_ult1                0\n",
       "ind_ctju_fin_ult1               0\n",
       "ind_ctma_fin_ult1               0\n",
       "ind_ctop_fin_ult1               0\n",
       "ind_ctpp_fin_ult1               0\n",
       "ind_deco_fin_ult1               0\n",
       "ind_deme_fin_ult1               0\n",
       "ind_dela_fin_ult1               0\n",
       "ind_ecue_fin_ult1               0\n",
       "ind_fond_fin_ult1               0\n",
       "ind_hip_fin_ult1                0\n",
       "ind_plan_fin_ult1               0\n",
       "ind_pres_fin_ult1               0\n",
       "ind_reca_fin_ult1               0\n",
       "ind_tjcr_fin_ult1               0\n",
       "ind_valo_fin_ult1               0\n",
       "ind_viv_fin_ult1                0\n",
       "ind_nomina_ult1             16063\n",
       "ind_nom_pens_ult1           16063\n",
       "ind_recibo_ult1                 0\n",
       "dtype: int64"
      ]
     },
     "execution_count": 3,
     "metadata": {},
     "output_type": "execute_result"
    }
   ],
   "source": [
    "data.isnull().sum()"
   ]
  },
  {
   "cell_type": "code",
   "execution_count": 4,
   "metadata": {},
   "outputs": [],
   "source": [
    "df_ind_empleado_null = data[data['ind_empleado'].isna()]\n",
    "df_ind_empleado_null.to_csv(\"ind_empleado_null.csv\", index=False)"
   ]
  },
  {
   "cell_type": "markdown",
   "metadata": {},
   "source": [
    "* Ở cột ind_empleado và pais_residencia cứ dòng nào null là toàn bộ dữ liệu khách hàng đều null => drop hết null của 2 cột này"
   ]
  },
  {
   "cell_type": "code",
   "execution_count": 5,
   "metadata": {},
   "outputs": [],
   "source": [
    "data = data.dropna(subset=['ind_empleado'])"
   ]
  },
  {
   "cell_type": "markdown",
   "metadata": {},
   "source": [
    "* Đổi dữ liệu của cột indrel thành 1 và 0"
   ]
  },
  {
   "cell_type": "code",
   "execution_count": 6,
   "metadata": {},
   "outputs": [
    {
     "data": {
      "text/plain": [
       "indrel\n",
       "1.0     13594782\n",
       "99.0       24793\n",
       "Name: count, dtype: int64"
      ]
     },
     "execution_count": 6,
     "metadata": {},
     "output_type": "execute_result"
    }
   ],
   "source": [
    "data['indrel'].value_counts()"
   ]
  },
  {
   "cell_type": "code",
   "execution_count": 7,
   "metadata": {},
   "outputs": [],
   "source": [
    "data['indrel'] = data['indrel'].astype(int)\n",
    "data['indrel'] = data['indrel'].replace(99, 0)"
   ]
  },
  {
   "cell_type": "code",
   "execution_count": 8,
   "metadata": {},
   "outputs": [
    {
     "data": {
      "text/plain": [
       "conyuemp\n",
       "N    1791\n",
       "S      17\n",
       "Name: count, dtype: int64"
      ]
     },
     "execution_count": 8,
     "metadata": {},
     "output_type": "execute_result"
    }
   ],
   "source": [
    "data['conyuemp'].value_counts()"
   ]
  },
  {
   "cell_type": "markdown",
   "metadata": {},
   "source": [
    "* Dữ liệu ở cột ult_fec_cli_1t null rất nhiều vì theo dữ liệu của cột indrel thì hầu hết khách hàng đều là khách hàng chính => bỏ cột này\n",
    "* Dữ liệu ở cột conyuemp cũng null rất nhiều và lưu cả N(Không) và S(Có) chứ không lưu như mô tả dữ liệu => bỏ cột này vì không xử lí được"
   ]
  },
  {
   "cell_type": "code",
   "execution_count": 9,
   "metadata": {},
   "outputs": [],
   "source": [
    "data = data.drop(columns=['ult_fec_cli_1t','conyuemp'])"
   ]
  },
  {
   "cell_type": "markdown",
   "metadata": {},
   "source": [
    "* Các cột dữ liệu số (age, antiguedad) đang lưu dưới cả dạng object và float => chuyển hết về int\n",
    "* Loại bỏ các giá trị vô lí (VD: age < 0, antiguedad <0, age > 117)"
   ]
  },
  {
   "cell_type": "code",
   "execution_count": 10,
   "metadata": {},
   "outputs": [],
   "source": [
    "data['age'] = data['age'].astype(int)\n",
    "data['antiguedad'] = data['antiguedad'].astype(int)"
   ]
  },
  {
   "cell_type": "code",
   "execution_count": 11,
   "metadata": {},
   "outputs": [
    {
     "name": "stdout",
     "output_type": "stream",
     "text": [
      "38\n",
      "0\n"
     ]
    }
   ],
   "source": [
    "print(len(data[data['antiguedad']<0]))\n",
    "print(len(data[data['age']<0]))"
   ]
  },
  {
   "cell_type": "code",
   "execution_count": 12,
   "metadata": {},
   "outputs": [
    {
     "name": "stdout",
     "output_type": "stream",
     "text": [
      "22\n"
     ]
    }
   ],
   "source": [
    "print(len(data[data['age']>117]))"
   ]
  },
  {
   "cell_type": "code",
   "execution_count": 13,
   "metadata": {},
   "outputs": [],
   "source": [
    "data = data[data[\"antiguedad\"] >= 0]"
   ]
  },
  {
   "cell_type": "code",
   "execution_count": 14,
   "metadata": {},
   "outputs": [],
   "source": [
    "data = data[data[\"age\"] <= 117]"
   ]
  },
  {
   "cell_type": "code",
   "execution_count": 15,
   "metadata": {},
   "outputs": [
    {
     "data": {
      "text/plain": [
       "fecha_dato                     0\n",
       "ncodpers                       0\n",
       "ind_empleado                   0\n",
       "pais_residencia                0\n",
       "sexo                          70\n",
       "age                            0\n",
       "fecha_alta                     0\n",
       "ind_nuevo                      0\n",
       "antiguedad                     0\n",
       "indrel                         0\n",
       "indrel_1mes               122047\n",
       "tiprel_1mes               122047\n",
       "indresi                        0\n",
       "indext                         0\n",
       "canal_entrada             158392\n",
       "indfall                        0\n",
       "tipodom                        1\n",
       "cod_prov                   65857\n",
       "nomprov                    65857\n",
       "ind_actividad_cliente          0\n",
       "renta                    2766626\n",
       "segmento                  161634\n",
       "ind_ahor_fin_ult1              0\n",
       "ind_aval_fin_ult1              0\n",
       "ind_cco_fin_ult1               0\n",
       "ind_cder_fin_ult1              0\n",
       "ind_cno_fin_ult1               0\n",
       "ind_ctju_fin_ult1              0\n",
       "ind_ctma_fin_ult1              0\n",
       "ind_ctop_fin_ult1              0\n",
       "ind_ctpp_fin_ult1              0\n",
       "ind_deco_fin_ult1              0\n",
       "ind_deme_fin_ult1              0\n",
       "ind_dela_fin_ult1              0\n",
       "ind_ecue_fin_ult1              0\n",
       "ind_fond_fin_ult1              0\n",
       "ind_hip_fin_ult1               0\n",
       "ind_plan_fin_ult1              0\n",
       "ind_pres_fin_ult1              0\n",
       "ind_reca_fin_ult1              0\n",
       "ind_tjcr_fin_ult1              0\n",
       "ind_valo_fin_ult1              0\n",
       "ind_viv_fin_ult1               0\n",
       "ind_nomina_ult1              217\n",
       "ind_nom_pens_ult1            217\n",
       "ind_recibo_ult1                0\n",
       "dtype: int64"
      ]
     },
     "execution_count": 15,
     "metadata": {},
     "output_type": "execute_result"
    }
   ],
   "source": [
    "data.isnull().sum()"
   ]
  },
  {
   "cell_type": "code",
   "execution_count": 16,
   "metadata": {},
   "outputs": [],
   "source": [
    "data = data.dropna(subset=['sexo'])"
   ]
  },
  {
   "cell_type": "markdown",
   "metadata": {},
   "source": [
    "* 2 cột indrel_1mes và tiprel_1mes null cùng nhau và chứa thông tin cũng khá giống nhau => có thể gộp 2 cột làm 1 để điền null \n"
   ]
  },
  {
   "cell_type": "code",
   "execution_count": 17,
   "metadata": {},
   "outputs": [],
   "source": [
    "data['indrel_1mes'] = data['indrel_1mes'].astype(str)\n",
    "data['tiprel_1mes'] = data['tiprel_1mes'].astype(str)\n",
    "data['indrel_1mes'] = data['indrel_1mes'].astype(str).str.replace(\".0\", \"\", regex=False)"
   ]
  },
  {
   "cell_type": "code",
   "execution_count": 18,
   "metadata": {},
   "outputs": [
    {
     "name": "stdout",
     "output_type": "stream",
     "text": [
      "indrel_1mes  tiprel_1mes\n",
      "1            I              7304607\n",
      "             A              6185945\n",
      "nan          nan             122047\n",
      "3            P                 4350\n",
      "2            A                 1082\n",
      "P            R                  869\n",
      "4            P                  306\n",
      "2            I                  235\n",
      "P            N                    4\n",
      "Name: count, dtype: int64\n"
     ]
    }
   ],
   "source": [
    "print(data[['indrel_1mes','tiprel_1mes']].value_counts())"
   ]
  },
  {
   "cell_type": "code",
   "execution_count": null,
   "metadata": {},
   "outputs": [],
   "source": [
    "mapping = {\n",
    "    ('1', 'I'): 'A',\n",
    "    ('1', 'A'): 'B',\n",
    "    ('3', 'P'): 'C',\n",
    "    ('2', 'A'): 'D',\n",
    "    ('P', 'R'): 'E',\n",
    "    ('4', 'P'): 'F',\n",
    "    ('2', 'I'): 'G',\n",
    "    ('P', 'N'): 'E'  \n",
    "}\n",
    "\n",
    "data['inti_1mes'] = np.nan  \n",
    "\n",
    "for idx, row in data.iterrows():\n",
    "    key = (str(row['indrel_1mes']), str(row['tiprel_1mes']))\n",
    "    \n",
    "    if pd.isna(row['indrel_1mes']) and pd.isna(row['tiprel_1mes']):\n",
    "        data.at[idx, 'inti_1mes'] = np.nan\n",
    "    else:\n",
    "        data.at[idx, 'inti_1mes'] = mapping.get(key, 'Unknown')\n",
    "\n",
    "   \n",
    "    if idx % 1000 == 0:  \n",
    "        print(f\"Processing index: {idx}\")\n",
    "\n",
    "data = data.drop(columns=['indrel_1mes', 'tiprel_1mes'])\n",
    "\n",
    "data['inti_1mes'].value_counts()\n"
   ]
  },
  {
   "cell_type": "code",
   "execution_count": 20,
   "metadata": {},
   "outputs": [],
   "source": [
    "mask = (data[\"inti_1mes\"] == \"Unknown\")\n",
    "\n",
    "data.loc[mask & (data[\"ind_actividad_cliente\"] == 1), \"inti_1mes\"] = \"B\"\n",
    "data.loc[mask & (data[\"ind_actividad_cliente\"] == 0), \"inti_1mes\"] = \"A\""
   ]
  },
  {
   "cell_type": "code",
   "execution_count": 21,
   "metadata": {},
   "outputs": [
    {
     "data": {
      "text/plain": [
       "inti_1mes\n",
       "A    7388380\n",
       "B    6224219\n",
       "C       4350\n",
       "D       1082\n",
       "E        873\n",
       "F        306\n",
       "G        235\n",
       "Name: count, dtype: int64"
      ]
     },
     "execution_count": 21,
     "metadata": {},
     "output_type": "execute_result"
    }
   ],
   "source": [
    "data['inti_1mes'].value_counts()"
   ]
  },
  {
   "cell_type": "code",
   "execution_count": 23,
   "metadata": {},
   "outputs": [],
   "source": [
    "columns_to_drop = ['pais_residencia','fecha_alta','ind_nuevo','canal_entrada','tipodom','nomprov','ind_actividad_cliente']\n",
    "data = data.drop(columns = columns_to_drop)"
   ]
  },
  {
   "cell_type": "code",
   "execution_count": 25,
   "metadata": {},
   "outputs": [
    {
     "name": "stderr",
     "output_type": "stream",
     "text": [
      "/var/folders/2r/k8v37jcj6yg4bqx302w74hrm0000gn/T/ipykernel_91808/1560314996.py:1: FutureWarning: A value is trying to be set on a copy of a DataFrame or Series through chained assignment using an inplace method.\n",
      "The behavior will change in pandas 3.0. This inplace method will never work because the intermediate object on which we are setting values always behaves as a copy.\n",
      "\n",
      "For example, when doing 'df[col].method(value, inplace=True)', try using 'df.method({col: value}, inplace=True)' or df[col] = df[col].method(value) instead, to perform the operation inplace on the original object.\n",
      "\n",
      "\n",
      "  data[\"ind_nomina_ult1\"].fillna(0, inplace=True)\n",
      "/var/folders/2r/k8v37jcj6yg4bqx302w74hrm0000gn/T/ipykernel_91808/1560314996.py:2: FutureWarning: A value is trying to be set on a copy of a DataFrame or Series through chained assignment using an inplace method.\n",
      "The behavior will change in pandas 3.0. This inplace method will never work because the intermediate object on which we are setting values always behaves as a copy.\n",
      "\n",
      "For example, when doing 'df[col].method(value, inplace=True)', try using 'df.method({col: value}, inplace=True)' or df[col] = df[col].method(value) instead, to perform the operation inplace on the original object.\n",
      "\n",
      "\n",
      "  data[\"ind_nom_pens_ult1\"].fillna(0, inplace=True)\n"
     ]
    }
   ],
   "source": [
    "data[\"ind_nomina_ult1\"].fillna(0, inplace=True)\n",
    "data[\"ind_nom_pens_ult1\"].fillna(0, inplace=True)\n"
   ]
  },
  {
   "cell_type": "code",
   "execution_count": 27,
   "metadata": {},
   "outputs": [
    {
     "name": "stderr",
     "output_type": "stream",
     "text": [
      "/var/folders/2r/k8v37jcj6yg4bqx302w74hrm0000gn/T/ipykernel_91808/2535807846.py:1: FutureWarning: A value is trying to be set on a copy of a DataFrame or Series through chained assignment using an inplace method.\n",
      "The behavior will change in pandas 3.0. This inplace method will never work because the intermediate object on which we are setting values always behaves as a copy.\n",
      "\n",
      "For example, when doing 'df[col].method(value, inplace=True)', try using 'df.method({col: value}, inplace=True)' or df[col] = df[col].method(value) instead, to perform the operation inplace on the original object.\n",
      "\n",
      "\n",
      "  data[\"segmento\"].fillna(data[\"segmento\"].mode()[0], inplace=True)\n",
      "/var/folders/2r/k8v37jcj6yg4bqx302w74hrm0000gn/T/ipykernel_91808/2535807846.py:2: FutureWarning: A value is trying to be set on a copy of a DataFrame or Series through chained assignment using an inplace method.\n",
      "The behavior will change in pandas 3.0. This inplace method will never work because the intermediate object on which we are setting values always behaves as a copy.\n",
      "\n",
      "For example, when doing 'df[col].method(value, inplace=True)', try using 'df.method({col: value}, inplace=True)' or df[col] = df[col].method(value) instead, to perform the operation inplace on the original object.\n",
      "\n",
      "\n",
      "  data[\"cod_prov\"].fillna(data[\"cod_prov\"].mode()[0], inplace=True)\n"
     ]
    }
   ],
   "source": [
    "data[\"segmento\"].fillna(data[\"segmento\"].mode()[0], inplace=True)\n",
    "data[\"cod_prov\"].fillna(0, inplace=True)\n"
   ]
  },
  {
   "cell_type": "code",
   "execution_count": 28,
   "metadata": {},
   "outputs": [
    {
     "data": {
      "text/plain": [
       "fecha_dato                 0\n",
       "ncodpers                   0\n",
       "ind_empleado               0\n",
       "sexo                       0\n",
       "age                        0\n",
       "antiguedad                 0\n",
       "indrel                     0\n",
       "indresi                    0\n",
       "indext                     0\n",
       "indfall                    0\n",
       "cod_prov                   0\n",
       "renta                2766592\n",
       "segmento                   0\n",
       "ind_ahor_fin_ult1          0\n",
       "ind_aval_fin_ult1          0\n",
       "ind_cco_fin_ult1           0\n",
       "ind_cder_fin_ult1          0\n",
       "ind_cno_fin_ult1           0\n",
       "ind_ctju_fin_ult1          0\n",
       "ind_ctma_fin_ult1          0\n",
       "ind_ctop_fin_ult1          0\n",
       "ind_ctpp_fin_ult1          0\n",
       "ind_deco_fin_ult1          0\n",
       "ind_deme_fin_ult1          0\n",
       "ind_dela_fin_ult1          0\n",
       "ind_ecue_fin_ult1          0\n",
       "ind_fond_fin_ult1          0\n",
       "ind_hip_fin_ult1           0\n",
       "ind_plan_fin_ult1          0\n",
       "ind_pres_fin_ult1          0\n",
       "ind_reca_fin_ult1          0\n",
       "ind_tjcr_fin_ult1          0\n",
       "ind_valo_fin_ult1          0\n",
       "ind_viv_fin_ult1           0\n",
       "ind_nomina_ult1            0\n",
       "ind_nom_pens_ult1          0\n",
       "ind_recibo_ult1            0\n",
       "inti_1mes                  0\n",
       "dtype: int64"
      ]
     },
     "execution_count": 28,
     "metadata": {},
     "output_type": "execute_result"
    }
   ],
   "source": [
    "data.isnull().sum()"
   ]
  },
  {
   "cell_type": "code",
   "execution_count": 41,
   "metadata": {},
   "outputs": [],
   "source": [
    "data['cod_prov'] = data['cod_prov'].astype(int)"
   ]
  },
  {
   "cell_type": "code",
   "execution_count": 44,
   "metadata": {},
   "outputs": [],
   "source": [
    "data['ind_nomina_ult1'] = data['ind_nomina_ult1'].astype(int)\n",
    "data['ind_nom_pens_ult1'] = data['ind_nom_pens_ult1'].astype(int)"
   ]
  },
  {
   "cell_type": "code",
   "execution_count": 47,
   "metadata": {},
   "outputs": [],
   "source": [
    "data.to_csv('data_for_visualize.csv',index = False)"
   ]
  },
  {
   "cell_type": "code",
   "execution_count": 81,
   "metadata": {},
   "outputs": [],
   "source": [
    "data = pd.read_csv('data_for_visualize.csv')"
   ]
  },
  {
   "cell_type": "code",
   "execution_count": 82,
   "metadata": {},
   "outputs": [],
   "source": [
    "label_cols = ['sexo', 'indresi', 'indext', 'indfall']\n",
    "le = LabelEncoder()\n",
    "for col in label_cols:\n",
    "    data[col] = le.fit_transform(data[col])"
   ]
  },
  {
   "cell_type": "code",
   "execution_count": 83,
   "metadata": {},
   "outputs": [],
   "source": [
    "data = pd.get_dummies(data, columns=['ind_empleado'], drop_first=True)"
   ]
  },
  {
   "cell_type": "code",
   "execution_count": 84,
   "metadata": {},
   "outputs": [],
   "source": [
    "cols_to_convert = ['ind_empleado_B', 'ind_empleado_F', 'ind_empleado_N','ind_empleado_S']  \n",
    "data[cols_to_convert] = data[cols_to_convert].astype(int)"
   ]
  },
  {
   "cell_type": "code",
   "execution_count": 85,
   "metadata": {},
   "outputs": [],
   "source": [
    "mapping = {\"B\": 6, \"A\": 5, \"D\": 4, \"G\": 3, \"E\": 2, \"C\": 1, \"F\": 0}\n",
    "data[\"inti_1mes\"] = data[\"inti_1mes\"].map(mapping)\n"
   ]
  },
  {
   "cell_type": "code",
   "execution_count": 86,
   "metadata": {},
   "outputs": [],
   "source": [
    "mapping = {\"01 - TOP\": 2, \"02 - PARTICULARES\": 1, \"03 - UNIVERSITARIO\": 0}\n",
    "data[\"segmento\"] = data[\"segmento\"].map(mapping)\n"
   ]
  },
  {
   "cell_type": "code",
   "execution_count": 90,
   "metadata": {},
   "outputs": [],
   "source": [
    "data_scale = data.copy()\n",
    "data_scale = data_scale.drop(columns=['ncodpers', 'fecha_dato'])\n",
    "features = [col for col in data_scale.columns]\n",
    "# Scale data\n",
    "scaler = MinMaxScaler()\n",
    "data_scale[features] = scaler.fit_transform(data_scale[features])\n"
   ]
  },
  {
   "cell_type": "code",
   "execution_count": 93,
   "metadata": {},
   "outputs": [
    {
     "data": {
      "text/plain": [
       "(13619445, 39)"
      ]
     },
     "execution_count": 93,
     "metadata": {},
     "output_type": "execute_result"
    }
   ],
   "source": [
    "data_scale.shape"
   ]
  },
  {
   "cell_type": "code",
   "execution_count": 94,
   "metadata": {},
   "outputs": [
    {
     "name": "stdout",
     "output_type": "stream",
     "text": [
      "0/137\n",
      "100000/137\n",
      "200000/137\n",
      "300000/137\n",
      "400000/137\n",
      "500000/137\n",
      "600000/137\n",
      "700000/137\n",
      "800000/137\n",
      "900000/137\n",
      "1000000/137\n",
      "1100000/137\n",
      "1200000/137\n",
      "1300000/137\n",
      "1400000/137\n",
      "1500000/137\n",
      "1600000/137\n",
      "1700000/137\n",
      "1800000/137\n",
      "1900000/137\n",
      "2000000/137\n",
      "2100000/137\n",
      "2200000/137\n",
      "2300000/137\n",
      "2400000/137\n",
      "2500000/137\n",
      "2600000/137\n",
      "2700000/137\n",
      "2800000/137\n",
      "2900000/137\n",
      "3000000/137\n",
      "3100000/137\n",
      "3200000/137\n",
      "3300000/137\n",
      "3400000/137\n",
      "3500000/137\n",
      "3600000/137\n",
      "3700000/137\n",
      "3800000/137\n",
      "3900000/137\n",
      "4000000/137\n",
      "4100000/137\n",
      "4200000/137\n",
      "4300000/137\n",
      "4400000/137\n",
      "4500000/137\n",
      "4600000/137\n",
      "4700000/137\n",
      "4800000/137\n",
      "4900000/137\n",
      "5000000/137\n",
      "5100000/137\n",
      "5200000/137\n",
      "5300000/137\n",
      "5400000/137\n",
      "5500000/137\n",
      "5600000/137\n",
      "5700000/137\n",
      "5800000/137\n",
      "5900000/137\n",
      "6000000/137\n",
      "6100000/137\n",
      "6200000/137\n",
      "6300000/137\n",
      "6400000/137\n",
      "6500000/137\n",
      "6600000/137\n",
      "6700000/137\n",
      "6800000/137\n",
      "6900000/137\n",
      "7000000/137\n",
      "7100000/137\n",
      "7200000/137\n",
      "7300000/137\n",
      "7400000/137\n",
      "7500000/137\n",
      "7600000/137\n",
      "7700000/137\n",
      "7800000/137\n",
      "7900000/137\n",
      "8000000/137\n",
      "8100000/137\n",
      "8200000/137\n",
      "8300000/137\n",
      "8400000/137\n",
      "8500000/137\n",
      "8600000/137\n",
      "8700000/137\n",
      "8800000/137\n",
      "8900000/137\n",
      "9000000/137\n",
      "9100000/137\n",
      "9200000/137\n",
      "9300000/137\n",
      "9400000/137\n",
      "9500000/137\n",
      "9600000/137\n",
      "9700000/137\n",
      "9800000/137\n",
      "9900000/137\n",
      "10000000/137\n",
      "10100000/137\n",
      "10200000/137\n",
      "10300000/137\n",
      "10400000/137\n",
      "10500000/137\n",
      "10600000/137\n",
      "10700000/137\n",
      "10800000/137\n",
      "10900000/137\n",
      "11000000/137\n",
      "11100000/137\n",
      "11200000/137\n",
      "11300000/137\n",
      "11400000/137\n",
      "11500000/137\n",
      "11600000/137\n",
      "11700000/137\n",
      "11800000/137\n",
      "11900000/137\n",
      "12000000/137\n",
      "12100000/137\n",
      "12200000/137\n",
      "12300000/137\n",
      "12400000/137\n",
      "12500000/137\n",
      "12600000/137\n",
      "12700000/137\n",
      "12800000/137\n",
      "12900000/137\n",
      "13000000/137\n",
      "13100000/137\n",
      "13200000/137\n",
      "13300000/137\n",
      "13400000/137\n",
      "13500000/137\n",
      "13600000/137\n"
     ]
    }
   ],
   "source": [
    "fill_nan_columns = ['renta']\n",
    "col_means = data_scale[fill_nan_columns].mean()\n",
    "imputer = KNNImputer(n_neighbors=3)\n",
    "batch_size = 100000  \n",
    "nums_batch = len(data_scale) // batch_size + 1\n",
    "imputed_batches = []\n",
    "for i in range(0, len(data_scale), batch_size):\n",
    "    print(f\"{i}/{nums_batch}\")\n",
    "    batch = data_scale.iloc[i:i + batch_size]\n",
    "    \n",
    "    imputed_batch = imputer.fit_transform(batch[fill_nan_columns])\n",
    "    imputed_batches.append(pd.DataFrame(imputed_batch, columns=fill_nan_columns))\n",
    "    \n",
    "# Ghép các batch lại\n",
    "train_imputed = pd.concat(imputed_batches, ignore_index=True)\n",
    "for col in data_scale.columns:\n",
    "    if col not in fill_nan_columns:\n",
    "        train_imputed.loc[:, col] = data_scale.loc[:, col]\n",
    "        \n",
    "data_scale = train_imputed"
   ]
  },
  {
   "cell_type": "code",
   "execution_count": 97,
   "metadata": {},
   "outputs": [],
   "source": [
    "data_scale_1 = data_scale.copy()"
   ]
  },
  {
   "cell_type": "code",
   "execution_count": 99,
   "metadata": {},
   "outputs": [
    {
     "data": {
      "text/plain": [
       "Index(['renta', 'sexo', 'age', 'antiguedad', 'indrel', 'indresi', 'indext',\n",
       "       'indfall', 'cod_prov', 'segmento', 'ind_ahor_fin_ult1',\n",
       "       'ind_aval_fin_ult1', 'ind_cco_fin_ult1', 'ind_cder_fin_ult1',\n",
       "       'ind_cno_fin_ult1', 'ind_ctju_fin_ult1', 'ind_ctma_fin_ult1',\n",
       "       'ind_ctop_fin_ult1', 'ind_ctpp_fin_ult1', 'ind_deco_fin_ult1',\n",
       "       'ind_deme_fin_ult1', 'ind_dela_fin_ult1', 'ind_ecue_fin_ult1',\n",
       "       'ind_fond_fin_ult1', 'ind_hip_fin_ult1', 'ind_plan_fin_ult1',\n",
       "       'ind_pres_fin_ult1', 'ind_reca_fin_ult1', 'ind_tjcr_fin_ult1',\n",
       "       'ind_valo_fin_ult1', 'ind_viv_fin_ult1', 'ind_nomina_ult1',\n",
       "       'ind_nom_pens_ult1', 'ind_recibo_ult1', 'inti_1mes', 'ind_empleado_B',\n",
       "       'ind_empleado_F', 'ind_empleado_N', 'ind_empleado_S'],\n",
       "      dtype='object')"
      ]
     },
     "execution_count": 99,
     "metadata": {},
     "output_type": "execute_result"
    }
   ],
   "source": [
    "data_scale.columns"
   ]
  },
  {
   "cell_type": "code",
   "execution_count": 100,
   "metadata": {},
   "outputs": [],
   "source": [
    "data_scale[features] = scaler.inverse_transform(data_scale[features])"
   ]
  },
  {
   "cell_type": "code",
   "execution_count": 155,
   "metadata": {},
   "outputs": [],
   "source": [
    "int_col = data_scale.columns[1:39]"
   ]
  },
  {
   "cell_type": "code",
   "execution_count": 150,
   "metadata": {},
   "outputs": [],
   "source": [
    "data_scale[int_col] = data_scale[int_col].astype(int)"
   ]
  },
  {
   "cell_type": "code",
   "execution_count": 152,
   "metadata": {},
   "outputs": [
    {
     "data": {
      "text/plain": [
       "renta                float64\n",
       "sexo                   int64\n",
       "age                    int64\n",
       "antiguedad             int64\n",
       "indrel                 int64\n",
       "indresi                int64\n",
       "indext                 int64\n",
       "indfall                int64\n",
       "cod_prov               int64\n",
       "segmento               int64\n",
       "ind_ahor_fin_ult1      int64\n",
       "ind_aval_fin_ult1      int64\n",
       "ind_cco_fin_ult1       int64\n",
       "ind_cder_fin_ult1      int64\n",
       "ind_cno_fin_ult1       int64\n",
       "ind_ctju_fin_ult1      int64\n",
       "ind_ctma_fin_ult1      int64\n",
       "ind_ctop_fin_ult1      int64\n",
       "ind_ctpp_fin_ult1      int64\n",
       "ind_deco_fin_ult1      int64\n",
       "ind_deme_fin_ult1      int64\n",
       "ind_dela_fin_ult1      int64\n",
       "ind_ecue_fin_ult1      int64\n",
       "ind_fond_fin_ult1      int64\n",
       "ind_hip_fin_ult1       int64\n",
       "ind_plan_fin_ult1      int64\n",
       "ind_pres_fin_ult1      int64\n",
       "ind_reca_fin_ult1      int64\n",
       "ind_tjcr_fin_ult1      int64\n",
       "ind_valo_fin_ult1      int64\n",
       "ind_viv_fin_ult1       int64\n",
       "ind_nomina_ult1        int64\n",
       "ind_nom_pens_ult1      int64\n",
       "ind_recibo_ult1        int64\n",
       "inti_1mes              int64\n",
       "ind_empleado_B         int64\n",
       "ind_empleado_F         int64\n",
       "ind_empleado_N         int64\n",
       "ind_empleado_S         int64\n",
       "ncodpers               int64\n",
       "fecha_dato            object\n",
       "dtype: object"
      ]
     },
     "execution_count": 152,
     "metadata": {},
     "output_type": "execute_result"
    }
   ],
   "source": [
    "data_scale.dtypes"
   ]
  },
  {
   "cell_type": "code",
   "execution_count": 154,
   "metadata": {},
   "outputs": [],
   "source": [
    "data_scale.to_csv('clean.csv',index = False)"
   ]
  }
 ],
 "metadata": {
  "kernelspec": {
   "display_name": "base",
   "language": "python",
   "name": "python3"
  },
  "language_info": {
   "codemirror_mode": {
    "name": "ipython",
    "version": 3
   },
   "file_extension": ".py",
   "mimetype": "text/x-python",
   "name": "python",
   "nbconvert_exporter": "python",
   "pygments_lexer": "ipython3",
   "version": "3.11.0"
  }
 },
 "nbformat": 4,
 "nbformat_minor": 2
}
