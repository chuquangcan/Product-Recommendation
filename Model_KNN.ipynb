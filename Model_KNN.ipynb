{
 "cells": [
  {
   "cell_type": "code",
   "execution_count": 1,
   "metadata": {},
   "outputs": [],
   "source": [
    "import pandas as pd\n",
    "import numpy as np \n",
    "import matplotlib.pyplot as plt\n",
    "import seaborn as sns\n",
    "from sklearn.impute import KNNImputer\n",
    "from sklearn.preprocessing import LabelEncoder, MinMaxScaler, StandardScaler\n",
    "from sklearn.neighbors import KNeighborsClassifier\n",
    "from sklearn.metrics import accuracy_score, classification_report\n"
   ]
  },
  {
   "cell_type": "code",
   "execution_count": 22,
   "metadata": {},
   "outputs": [],
   "source": [
    "data = pd.read_csv('clean.csv')"
   ]
  },
  {
   "cell_type": "code",
   "execution_count": 11,
   "metadata": {},
   "outputs": [],
   "source": [
    "df = data.copy()"
   ]
  },
  {
   "cell_type": "code",
   "execution_count": 12,
   "metadata": {},
   "outputs": [
    {
     "name": "stdout",
     "output_type": "stream",
     "text": [
      "Đang xử lý tháng: 2015-01-28 00:00:00\n",
      "Đang xử lý tháng: 2015-02-28 00:00:00\n",
      "Đang xử lý tháng: 2015-03-28 00:00:00\n",
      "Đang xử lý tháng: 2015-04-28 00:00:00\n",
      "Đang xử lý tháng: 2015-05-28 00:00:00\n",
      "Đang xử lý tháng: 2015-06-28 00:00:00\n",
      "Đang xử lý tháng: 2015-07-28 00:00:00\n",
      "Đang xử lý tháng: 2015-08-28 00:00:00\n",
      "Đang xử lý tháng: 2015-09-28 00:00:00\n",
      "Đang xử lý tháng: 2015-10-28 00:00:00\n",
      "Đang xử lý tháng: 2015-11-28 00:00:00\n",
      "Đang xử lý tháng: 2015-12-28 00:00:00\n",
      "Đang xử lý tháng: 2016-01-28 00:00:00\n",
      "Đang xử lý tháng: 2016-02-28 00:00:00\n",
      "Đang xử lý tháng: 2016-03-28 00:00:00\n",
      "Đang xử lý tháng: 2016-04-28 00:00:00\n"
     ]
    }
   ],
   "source": [
    "df['fecha_dato'] = pd.to_datetime(df['fecha_dato'])\n",
    "product_columns = df.columns[10:34]\n",
    "df_products = df[['fecha_dato', 'ncodpers'] + list(product_columns)]\n",
    "\n",
    "df_products = df_products.sort_values(['ncodpers', 'fecha_dato'])\n",
    "\n",
    "train_data = []\n",
    "test_data = []\n",
    "unique_dates = df_products['fecha_dato'].unique()\n",
    "\n",
    "for i in range(len(unique_dates) - 1):\n",
    "    current_date = unique_dates[i]\n",
    "    next_date = unique_dates[i + 1]\n",
    "    \n",
    "    print(f\"Đang xử lý tháng: {current_date}\")\n",
    "\n",
    "    current_month_data = df_products[df_products['fecha_dato'] == current_date]\n",
    "    next_month_data = df_products[df_products['fecha_dato'] == next_date]\n",
    "    \n",
    "   \n",
    "    for customer_id in current_month_data['ncodpers'].unique():\n",
    "        current_customer = current_month_data[current_month_data['ncodpers'] == customer_id].iloc[0]\n",
    "        next_customer = next_month_data[next_month_data['ncodpers'] == customer_id]\n",
    "\n",
    "        if not next_customer.empty:\n",
    "            next_customer = next_customer.iloc[0]\n",
    "  \n",
    "            new_products = next_customer[2:] - current_customer[2:]  \n",
    "            new_products = new_products[new_products > 0]\n",
    "              \n",
    "            for product in new_products.index:\n",
    "\n",
    "                record = {\n",
    "                    'ncodpers': customer_id,\n",
    "                    'fecha_dato': current_customer['fecha_dato'],\n",
    "                    'output': product\n",
    "                }\n",
    "            \n",
    "                if current_date < pd.to_datetime('2016-04-28'):\n",
    "                    train_data.append(record)\n",
    "                else:\n",
    "                    test_data.append(record)\n"
   ]
  },
  {
   "cell_type": "code",
   "execution_count": 13,
   "metadata": {},
   "outputs": [],
   "source": [
    "train = pd.DataFrame(train_data)\n",
    "test = pd.DataFrame(test_data)"
   ]
  },
  {
   "cell_type": "code",
   "execution_count": 14,
   "metadata": {},
   "outputs": [
    {
     "name": "stdout",
     "output_type": "stream",
     "text": [
      "Tập train:\n",
      "(525331, 42)\n"
     ]
    }
   ],
   "source": [
    "customer_info = df\n",
    "\n",
    "train = train.merge(customer_info, on=['ncodpers', 'fecha_dato'], how='left')\n",
    "\n",
    "print(\"Tập train:\")\n",
    "print(train.shape)"
   ]
  },
  {
   "cell_type": "code",
   "execution_count": 15,
   "metadata": {},
   "outputs": [
    {
     "name": "stdout",
     "output_type": "stream",
     "text": [
      "(35843, 42)\n"
     ]
    }
   ],
   "source": [
    "customer_info = df\n",
    "\n",
    "test = test.merge(customer_info, on=['ncodpers', 'fecha_dato'], how='left')\n",
    "\n",
    "print(test.shape)"
   ]
  },
  {
   "cell_type": "code",
   "execution_count": 16,
   "metadata": {},
   "outputs": [],
   "source": [
    "#train.to_csv('train_df.csv',index=False)\n",
    "#test.to_csv('test_df.csv',index=False)"
   ]
  },
  {
   "cell_type": "code",
   "execution_count": 17,
   "metadata": {},
   "outputs": [],
   "source": [
    "#test_acc = test[['ncodpers','output']]\n",
    "#test_acc.to_csv('test_acc.csv',index=False)"
   ]
  },
  {
   "cell_type": "code",
   "execution_count": 2,
   "metadata": {},
   "outputs": [],
   "source": [
    "train = pd.read_csv('train_df.csv')\n",
    "test = pd.read_csv('test_df.csv')"
   ]
  },
  {
   "cell_type": "code",
   "execution_count": 3,
   "metadata": {},
   "outputs": [],
   "source": [
    "train = train.drop(columns = 'fecha_dato')\n",
    "test = test.drop(columns = 'fecha_dato')\n"
   ]
  },
  {
   "cell_type": "markdown",
   "metadata": {},
   "source": [
    "### Thử các tham số k"
   ]
  },
  {
   "cell_type": "code",
   "execution_count": null,
   "metadata": {},
   "outputs": [
    {
     "name": "stdout",
     "output_type": "stream",
     "text": [
      "K=5, Accuracy: 71.17%\n",
      "K=10, Accuracy: 72.64%\n",
      "K=15, Accuracy: 73.19%\n",
      "K=20, Accuracy: 73.27%\n",
      "K=25, Accuracy: 73.39%\n",
      "K=30, Accuracy: 73.51%\n",
      "K=35, Accuracy: 73.66%\n",
      "K=40, Accuracy: 73.81%\n",
      "K=45, Accuracy: 73.82%\n",
      "K=50, Accuracy: 73.86%\n",
      "K=55, Accuracy: 73.89%\n",
      "K=60, Accuracy: 73.92%\n",
      "K=65, Accuracy: 73.90%\n",
      "K=70, Accuracy: 73.86%\n",
      "K=75, Accuracy: 73.77%\n"
     ]
    },
    {
     "data": {
      "image/png": "[encoded data removed]",
      "text/plain": [
       "<Figure size 1000x600 with 1 Axes>"
      ]
     },
     "metadata": {},
     "output_type": "display_data"
    }
   ],
   "source": [
    "train_df = train.copy()\n",
    "test_df = test.copy()\n",
    "\n",
    "ncodpers_test = test_df['ncodpers'].values\n",
    "\n",
    "train_df.drop(columns=['ncodpers'], inplace=True, errors='ignore')\n",
    "test_df.drop(columns=['ncodpers'], inplace=True, errors='ignore')\n",
    "\n",
    "output_col = \"output\"\n",
    "features = [col for col in train_df.columns if col != output_col]\n",
    "\n",
    "scaler = MinMaxScaler()\n",
    "train_df[features] = scaler.fit_transform(train_df[features])\n",
    "test_df[features] = scaler.transform(test_df[features])\n",
    "\n",
    "X_train = train_df.drop(columns=['output'])\n",
    "y_train = train_df['output']\n",
    "X_test = test_df.drop(columns=['output'])\n",
    "y_true = test_df['output']\n",
    "\n",
    "previous_purchases = test_df.copy()\n",
    "\n",
    "k_values = list(range(5, 80, 5))\n",
    "accuracies = []\n",
    "\n",
    "for k in k_values:\n",
    "    knn = KNeighborsClassifier(n_neighbors=k)\n",
    "    knn.fit(X_train, y_train)\n",
    "\n",
    "    y_pred_proba = knn.predict_proba(X_test)\n",
    "\n",
    "    product_labels = knn.classes_\n",
    "\n",
    "    #sắp xếp xác suất, nếu sản phẩm nào mà đã mua rồi thì lấy cái tiếp theo\n",
    "    sorted_preds = np.argsort(-y_pred_proba, axis=1) \n",
    "\n",
    "    final_preds = []\n",
    "    for i, row in enumerate(sorted_preds):\n",
    "        selected_product = None\n",
    "        for j in row:  \n",
    "            product = product_labels[j]  \n",
    "            if previous_purchases.iloc[i][product] == 0:  \n",
    "                selected_product = product\n",
    "                break\n",
    "        if selected_product is None:  \n",
    "            selected_product = product_labels[row[0]]\n",
    "        final_preds.append(selected_product)\n",
    "\n",
    "    knn_predict = pd.DataFrame({'ncodpers': ncodpers_test, 'output': final_preds})\n",
    "    knn_predict = knn_predict.drop_duplicates()\n",
    "\n",
    "    test_acc = pd.read_csv('test_acc.csv')\n",
    "\n",
    "    correct_count = 0\n",
    "    for index, row in knn_predict.iterrows():\n",
    "        ncodpers = row['ncodpers']\n",
    "        output = row['output']\n",
    "        \n",
    "        match = test_acc[(test_acc['ncodpers'] == ncodpers) & (test_acc['output'] == output)]\n",
    "        if not match.empty:\n",
    "            correct_count += 1\n",
    "\n",
    "    total_rows = len(knn_predict)\n",
    "    accuracy = correct_count / total_rows\n",
    "    accuracies.append(accuracy)\n",
    "    print(f'K={k}, Accuracy: {accuracy:.2%}')\n",
    "\n",
    "plt.figure(figsize=(10, 6))\n",
    "plt.plot(k_values, accuracies, marker='o', linestyle='-')\n",
    "plt.xlabel('Number of Neighbors (K)')\n",
    "plt.ylabel('Accuracy')\n",
    "plt.title('KNN Accuracy for Different K Values')\n",
    "plt.grid()\n",
    "plt.show()"
   ]
  },
  {
   "cell_type": "code",
   "execution_count": null,
   "metadata": {},
   "outputs": [
    {
     "name": "stdout",
     "output_type": "stream",
     "text": [
      "Accuracy: 73.92%\n"
     ]
    }
   ],
   "source": [
    "train_df = train.copy()\n",
    "test_df = test.copy()\n",
    "\n",
    "ncodpers_test = test_df['ncodpers'].values\n",
    "\n",
    "train_df.drop(columns=['ncodpers'], inplace=True, errors='ignore')\n",
    "test_df.drop(columns=['ncodpers'], inplace=True, errors='ignore')\n",
    "\n",
    "output_col = \"output\"\n",
    "features = [col for col in train_df.columns if col != output_col]\n",
    "\n",
    "scaler = MinMaxScaler()\n",
    "train_df[features] = scaler.fit_transform(train_df[features])\n",
    "test_df[features] = scaler.transform(test_df[features])\n",
    "\n",
    "X_train = train_df.drop(columns=['output'])\n",
    "y_train = train_df['output']\n",
    "X_test = test_df.drop(columns=['output'])\n",
    "y_true = test_df['output']\n",
    "\n",
    "previous_purchases = test_df.copy()\n",
    "\n",
    "knn = KNeighborsClassifier(n_neighbors=60)\n",
    "knn.fit(X_train, y_train)\n",
    "\n",
    "y_pred_proba = knn.predict_proba(X_test)\n",
    "\n",
    "product_labels = knn.classes_\n",
    "\n",
    "#sắp xếp xác suất, nếu sản phẩm nào mà đã mua rồi thì lấy cái tiếp theo\n",
    "sorted_preds = np.argsort(-y_pred_proba, axis=1) \n",
    "\n",
    "final_preds = []\n",
    "for i, row in enumerate(sorted_preds):\n",
    "    selected_product = None\n",
    "    for j in row:  \n",
    "        product = product_labels[j]  \n",
    "        if previous_purchases.iloc[i][product] == 0:  \n",
    "            selected_product = product\n",
    "            break\n",
    "    if selected_product is None:  \n",
    "        selected_product = product_labels[row[0]]\n",
    "    final_preds.append(selected_product)\n",
    "\n",
    "knn_predict = pd.DataFrame({'ncodpers': ncodpers_test, 'output': final_preds})\n",
    "knn_predict = knn_predict.drop_duplicates()\n",
    "\n",
    "test_acc = pd.read_csv('test_acc.csv')\n",
    "\n",
    "correct_count = 0\n",
    "for index, row in knn_predict.iterrows():\n",
    "    ncodpers = row['ncodpers']\n",
    "    output = row['output']\n",
    "        \n",
    "    match = test_acc[(test_acc['ncodpers'] == ncodpers) & (test_acc['output'] == output)]\n",
    "    if not match.empty:\n",
    "        correct_count += 1\n",
    "\n",
    "total_rows = len(knn_predict)\n",
    "accuracy = correct_count / total_rows\n",
    "\n",
    "print(f'Accuracy: {accuracy:.2%}')\n",
    "\n"
   ]
  },
  {
   "cell_type": "code",
   "execution_count": 68,
   "metadata": {},
   "outputs": [
    {
     "data": {
      "image/png": "[encoded data removed]",
      "text/plain": [
       "<Figure size 1000x600 with 1 Axes>"
      ]
     },
     "metadata": {},
     "output_type": "display_data"
    }
   ],
   "source": [
    "train_df = train.copy()\n",
    "test_df = test.copy()\n",
    "\n",
    "ncodpers_test = test_df['ncodpers'].values\n",
    "ncodpers_counts = test_df['ncodpers'].value_counts().to_dict()\n",
    "\n",
    "train_df.drop(columns=['ncodpers'], inplace=True, errors='ignore')\n",
    "test_df.drop(columns=['ncodpers'], inplace=True, errors='ignore')\n",
    "\n",
    "output_col = \"output\"  \n",
    "features = [col for col in train_df.columns if col != output_col]\n",
    "\n",
    "output_encoder = LabelEncoder()\n",
    "train_df['output'] = output_encoder.fit_transform(train_df['output'])\n",
    "test_df['output'] = output_encoder.transform(test_df['output'])\n",
    "\n",
    "scaler = MinMaxScaler()\n",
    "train_df[features] = scaler.fit_transform(train_df[features])\n",
    "test_df[features] = scaler.transform(test_df[features])\n",
    "\n",
    "X_train = train_df.drop(columns=['output'])\n",
    "y_train = train_df['output']\n",
    "X_test = test_df.drop(columns=['output'])\n",
    "y_true = test_df['output']\n",
    "\n",
    "k_values = list(range(15, 80, 5))\n",
    "accuracies = []\n",
    "for k in k_values:\n",
    "    knn = KNeighborsClassifier(n_neighbors=k)\n",
    "    knn.fit(X_train, y_train)\n",
    "\n",
    "    # Dự đoán\n",
    "    probs = knn.predict_proba(X_test)\n",
    "    unique_ncodpers = np.unique(ncodpers_test)  \n",
    "\n",
    "    results = []\n",
    "    for ncodpers in unique_ncodpers:\n",
    "        count = ncodpers_counts.get(ncodpers, 1) \n",
    "        idxs = np.where(ncodpers_test == ncodpers)[0]  \n",
    "        top_preds = np.argsort(probs[idxs[0]])[-count:][::-1]  \n",
    "        \n",
    "        for pred in top_preds:\n",
    "            results.append([ncodpers, output_encoder.inverse_transform([pred])[0]])  \n",
    "\n",
    "    knn_predict = pd.DataFrame(results, columns=['ncodpers', 'output'])\n",
    "\n",
    "    test_acc = pd.read_csv('test_acc.csv')\n",
    "    correct_count = 0\n",
    "    for index, row in knn_predict.iterrows():\n",
    "        ncodpers = row['ncodpers']\n",
    "        output = row['output']\n",
    "        \n",
    "        match = test_acc[(test_acc['ncodpers'] == ncodpers) & (test_acc['output'] == output)]\n",
    "        if not match.empty:\n",
    "            correct_count += 1\n",
    "\n",
    "    total_rows = len(knn_predict)\n",
    "    accuracy = correct_count / total_rows\n",
    "    accuracies.append(accuracy)\n",
    "\n",
    "# Vẽ biểu đồ\n",
    "plt.figure(figsize=(10, 6))\n",
    "plt.plot(k_values, accuracies, marker='o', linestyle='-')\n",
    "plt.xlabel('Number of Neighbors (K)')\n",
    "plt.ylabel('Accuracy')\n",
    "plt.title('KNN Accuracy for Different K Values')\n",
    "plt.grid()\n",
    "plt.show()\n",
    "\n"
   ]
  },
  {
   "cell_type": "code",
   "execution_count": 6,
   "metadata": {},
   "outputs": [
    {
     "name": "stdout",
     "output_type": "stream",
     "text": [
      "Accuracy: 0.7548475295036687\n"
     ]
    }
   ],
   "source": [
    "train_df = train.copy()\n",
    "test_df = test.copy()\n",
    "\n",
    "ncodpers_test = test_df['ncodpers'].values\n",
    "ncodpers_counts = test_df['ncodpers'].value_counts().to_dict()\n",
    "\n",
    "train_df.drop(columns=['ncodpers'], inplace=True, errors='ignore')\n",
    "test_df.drop(columns=['ncodpers'], inplace=True, errors='ignore')\n",
    "\n",
    "output_col = \"output\"  \n",
    "features = [col for col in train_df.columns if col != output_col]\n",
    "\n",
    "output_encoder = LabelEncoder()\n",
    "train_df['output'] = output_encoder.fit_transform(train_df['output'])\n",
    "test_df['output'] = output_encoder.transform(test_df['output'])\n",
    "\n",
    "scaler = MinMaxScaler()\n",
    "train_df[features] = scaler.fit_transform(train_df[features])\n",
    "test_df[features] = scaler.transform(test_df[features])\n",
    "\n",
    "X_train = train_df.drop(columns=['output'])\n",
    "y_train = train_df['output']\n",
    "X_test = test_df.drop(columns=['output'])\n",
    "y_true = test_df['output']\n",
    "\n",
    "knn = KNeighborsClassifier(n_neighbors=70)\n",
    "knn.fit(X_train, y_train)\n",
    "\n",
    "probs = knn.predict_proba(X_test)\n",
    "unique_ncodpers = np.unique(ncodpers_test)  \n",
    "\n",
    "results = []\n",
    "for ncodpers in unique_ncodpers:\n",
    "    count = ncodpers_counts.get(ncodpers, 1)  \n",
    "    idxs = np.where(ncodpers_test == ncodpers)[0]  \n",
    "        \n",
    "    top_preds = np.argsort(probs[idxs[0]])[-count:][::-1]  \n",
    "        \n",
    "    for pred in top_preds:\n",
    "        results.append([ncodpers, output_encoder.inverse_transform([pred])[0]])  \n",
    "\n",
    "  \n",
    "knn_predict = pd.DataFrame(results, columns=['ncodpers', 'output'])\n",
    "\n",
    "test_acc = pd.read_csv('test_acc.csv')\n",
    "correct_count = 0\n",
    "for index, row in knn_predict.iterrows():\n",
    "    ncodpers = row['ncodpers']\n",
    "    output = row['output']\n",
    "        \n",
    "    match = test_acc[(test_acc['ncodpers'] == ncodpers) & (test_acc['output'] == output)]\n",
    "    if not match.empty:\n",
    "        correct_count += 1\n",
    "\n",
    "total_rows = len(knn_predict)\n",
    "accuracy = correct_count / total_rows\n",
    "print(f'Accuracy: {accuracy}')\n",
    "\n",
    "\n"
   ]
  },
  {
   "cell_type": "code",
   "execution_count": null,
   "metadata": {},
   "outputs": [],
   "source": [
    "#tinhs map@3\n",
    "train_df = train.copy()\n",
    "test_df = test.copy()\n",
    "\n",
    "ncodpers_test = test_df['ncodpers'].values\n",
    "ncodpers_counts = test_df['ncodpers'].value_counts().to_dict()\n",
    "\n",
    "train_df.drop(columns=['ncodpers'], inplace=True, errors='ignore')\n",
    "test_df.drop(columns=['ncodpers'], inplace=True, errors='ignore')\n",
    "\n",
    "output_col = \"output\"\n",
    "features = [col for col in train_df.columns if col != output_col]\n",
    "\n",
    "output_encoder = LabelEncoder()\n",
    "train_df['output'] = output_encoder.fit_transform(train_df['output'])\n",
    "test_df['output'] = output_encoder.transform(test_df['output'])\n",
    "\n",
    "scaler = MinMaxScaler()\n",
    "train_df[features] = scaler.fit_transform(train_df[features])\n",
    "test_df[features] = scaler.transform(test_df[features])\n",
    "\n",
    "X_train = train_df.drop(columns=['output'])\n",
    "y_train = train_df['output']\n",
    "X_test = test_df.drop(columns=['output'])\n",
    "y_true = test_df['output']\n",
    "\n",
    "knn = KNeighborsClassifier(n_neighbors=70)\n",
    "knn.fit(X_train, y_train)\n",
    "\n",
    "probs = knn.predict_proba(X_test)\n",
    "unique_ncodpers = np.unique(ncodpers_test)\n",
    "\n",
    "TOP_K = 3  \n",
    "predictions = {}\n",
    "\n",
    "for ncodpers in unique_ncodpers:\n",
    "    idxs = np.where(ncodpers_test == ncodpers)[0]\n",
    "    \n",
    "    top_preds = np.argsort(probs[idxs[0]])[-TOP_K:][::-1]\n",
    "    \n",
    "    predicted_products = output_encoder.inverse_transform(top_preds).tolist()\n",
    "    \n",
    "    predictions[ncodpers] = \",\".join(predicted_products)\n",
    "\n",
    "knn_predict = pd.DataFrame(predictions.items(), columns=['ncodpers', 'output'])\n",
    "knn_predict.to_csv('predict_3.csv', index=False)\n",
    "\n",
    "test_grouped = test.groupby('ncodpers')['output'].apply(lambda x: \",\".join(x)).reset_index()\n",
    "test_grouped.to_csv('test_grouped.csv', index=False)\n",
    "\n",
    "def apk(actual, predicted, k=3):\n",
    "    \"\"\"Tính Average Precision (AP) cho một user.\"\"\"\n",
    "    if not actual:\n",
    "        return 0.0\n",
    "\n",
    "    predicted = predicted[:k] \n",
    "    score = 0.0\n",
    "    num_hits = 0\n",
    "\n",
    "    for i, p in enumerate(predicted):\n",
    "        if p in actual and p not in predicted[:i]:\n",
    "            num_hits += 1\n",
    "            score += num_hits / (i + 1)\n",
    "\n",
    "    return score / min(len(actual), k)\n",
    "\n",
    "def mapk(actual_list, predicted_list, k=3):\n",
    "    return np.mean([apk(a, p, k) for a, p in zip(actual_list, predicted_list)])\n",
    "\n",
    "test_df = pd.read_csv('test_grouped.csv')\n",
    "pred_df = pd.read_csv('predict_3.csv')\n",
    "\n",
    "test_df['output'] = test_df['output'].apply(lambda x: x.split(\",\"))\n",
    "pred_df['output'] = pred_df['output'].apply(lambda x: x.split(\",\"))\n",
    "\n",
    "merged = pd.merge(test_df, pred_df, on='ncodpers', suffixes=('_true', '_pred'))\n",
    "\n",
    "map_score = mapk(merged['output_true'], merged['output_pred'], k=3)\n",
    "print(f\"MAP@3: {map_score:.4f}\") #MAP@3: 0.8044\n"
   ]
  },
  {
   "cell_type": "markdown",
   "metadata": {},
   "source": [
    "### Dự đoán trên toàn bộ người dùng của tháng 4/2016"
   ]
  },
  {
   "cell_type": "code",
   "execution_count": 36,
   "metadata": {},
   "outputs": [],
   "source": [
    "predict_data = data[data['fecha_dato'] == '2016-04-28']"
   ]
  },
  {
   "cell_type": "code",
   "execution_count": 24,
   "metadata": {},
   "outputs": [],
   "source": [
    "train_df = pd.read_csv('train_df.csv')"
   ]
  },
  {
   "cell_type": "code",
   "execution_count": 39,
   "metadata": {},
   "outputs": [],
   "source": [
    "predict_data = predict_data.drop(columns = ['fecha_dato'])"
   ]
  },
  {
   "cell_type": "code",
   "execution_count": 32,
   "metadata": {},
   "outputs": [
    {
     "data": {
      "text/plain": [
       "Index(['renta', 'sexo', 'age', 'antiguedad', 'indrel', 'indresi', 'indext',\n",
       "       'indfall', 'cod_prov', 'segmento', 'ind_ahor_fin_ult1',\n",
       "       'ind_aval_fin_ult1', 'ind_cco_fin_ult1', 'ind_cder_fin_ult1',\n",
       "       'ind_cno_fin_ult1', 'ind_ctju_fin_ult1', 'ind_ctma_fin_ult1',\n",
       "       'ind_ctop_fin_ult1', 'ind_ctpp_fin_ult1', 'ind_deco_fin_ult1',\n",
       "       'ind_deme_fin_ult1', 'ind_dela_fin_ult1', 'ind_ecue_fin_ult1',\n",
       "       'ind_fond_fin_ult1', 'ind_hip_fin_ult1', 'ind_plan_fin_ult1',\n",
       "       'ind_pres_fin_ult1', 'ind_reca_fin_ult1', 'ind_tjcr_fin_ult1',\n",
       "       'ind_valo_fin_ult1', 'ind_viv_fin_ult1', 'ind_nomina_ult1',\n",
       "       'ind_nom_pens_ult1', 'ind_recibo_ult1', 'inti_1mes', 'ind_empleado_B',\n",
       "       'ind_empleado_F', 'ind_empleado_N', 'ind_empleado_S', 'ncodpers'],\n",
       "      dtype='object')"
      ]
     },
     "execution_count": 32,
     "metadata": {},
     "output_type": "execute_result"
    }
   ],
   "source": [
    "predict_data.columns"
   ]
  },
  {
   "cell_type": "code",
   "execution_count": 40,
   "metadata": {},
   "outputs": [
    {
     "name": "stdout",
     "output_type": "stream",
     "text": [
      "Dự đoán đã được lưu vào knn_predictions_new.csv\n"
     ]
    }
   ],
   "source": [
    "train_df = train.copy()\n",
    "\n",
    "predict_df = predict_data.copy()\n",
    "\n",
    "ncodpers_predict = predict_df['ncodpers'].values\n",
    "\n",
    "train_df.drop(columns=['ncodpers'], inplace=True, errors='ignore')\n",
    "predict_df.drop(columns=['ncodpers'], inplace=True, errors='ignore')\n",
    "\n",
    "output_col = \"output\"\n",
    "features = [col for col in train_df.columns if col != output_col]\n",
    "\n",
    "scaler = MinMaxScaler()\n",
    "train_df[features] = scaler.fit_transform(train_df[features])\n",
    "predict_df[features] = scaler.transform(predict_df[features])\n",
    "\n",
    "X_train = train_df.drop(columns=['output'])\n",
    "y_train = train_df['output']\n",
    "X_predict = predict_df.copy()\n",
    "\n",
    "previous_purchases = predict_df.copy()\n",
    "\n",
    "knn = KNeighborsClassifier(n_neighbors=60)\n",
    "knn.fit(X_train, y_train)\n",
    "\n",
    "y_pred_proba = knn.predict_proba(X_predict)\n",
    "\n",
    "product_labels = knn.classes_\n",
    "\n",
    "sorted_preds = np.argsort(-y_pred_proba, axis=1)\n",
    "\n",
    "final_preds = []\n",
    "for i, row in enumerate(sorted_preds):\n",
    "    selected_product = None\n",
    "    for j in row:\n",
    "        product = product_labels[j]\n",
    "        if previous_purchases.iloc[i].get(product, 0) == 0:\n",
    "            selected_product = product\n",
    "            break\n",
    "    if selected_product is None:\n",
    "        selected_product = product_labels[row[0]]\n",
    "    final_preds.append(selected_product)\n",
    "\n",
    "output_df = pd.DataFrame({'ncodpers': ncodpers_predict, 'output': final_preds})\n",
    "output_df.to_csv(\"knn_predictions_new.csv\", index=False)\n",
    "\n"
   ]
  }
 ],
 "metadata": {
  "kernelspec": {
   "display_name": "base",
   "language": "python",
   "name": "python3"
  },
  "language_info": {
   "codemirror_mode": {
    "name": "ipython",
    "version": 3
   },
   "file_extension": ".py",
   "mimetype": "text/x-python",
   "name": "python",
   "nbconvert_exporter": "python",
   "pygments_lexer": "ipython3",
   "version": "3.11.0"
  }
 },
 "nbformat": 4,
 "nbformat_minor": 2
}
